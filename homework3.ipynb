{
 "cells": [
  {
   "cell_type": "code",
   "execution_count": 1,
   "id": "0e33ea88-3a47-441f-ba54-4663fcafc1c1",
   "metadata": {},
   "outputs": [],
   "source": [
    "import numpy as np\n",
    "import matplotlib.pyplot as plt\n",
    "from sklearn.svm import SVR\n",
    "from sklearn.model_selection import train_test_split\n",
    "from sklearn.preprocessing import StandardScaler\n",
    "from sklearn.metrics import mean_squared_error, r2_score\n",
    "from sklearn.linear_model import LinearRegression\n",
    "from sklearn.datasets import make_regression\n",
    "from sklearn.pipeline import make_pipeline\n",
    "\n",
    "X, y = make_regression(n_samples=500, n_features=1, noise=.15, random_state=42)\n",
    "\n",
    "\n",
    "X_train, X_test, y_train, y_test = train_test_split(X, y, test_size=0.2, random_state=42)"
   ]
  },
  {
   "cell_type": "code",
   "execution_count": 2,
   "id": "24e80a35-df07-4d42-b4a5-3de7aff42c8f",
   "metadata": {},
   "outputs": [],
   "source": [
    "degrees = [2, 3, 4]\n",
    "svr_models = {}\n",
    "results = {}\n",
    "\n",
    "for degree in degrees:\n",
    "    pipeline = make_pipeline(StandardScaler(), SVR(kernel=\"poly\", degree=degree, C=1.0, epsilon=0.1))\n",
    "    pipeline.fit(X_train, y_train)\n",
    "    y_pred = pipeline.predict(X_test)\n",
    "    \n",
    "    svr_models[degree] = pipeline\n",
    "    results[f\"SVR (Poly Degree {degree})\"] = {\n",
    "        \"RMSE\": np.sqrt(mean_squared_error(y_test, y_pred)),\n",
    "    }\n"
   ]
  },
  {
   "cell_type": "code",
   "execution_count": 3,
   "id": "c96056c1-91e7-46bf-8f81-aa3e21d49b8f",
   "metadata": {},
   "outputs": [],
   "source": [
    "# linear regression\n",
    "lin_reg_pipeline = make_pipeline(StandardScaler(), LinearRegression())\n",
    "lin_reg_pipeline.fit(X_train, y_train)\n",
    "y_pred_lin = lin_reg_pipeline.predict(X_test)\n",
    "\n",
    "results[\"Linear Regression\"] = {\n",
    "    \"RMSE\": np.sqrt(mean_squared_error(y_test, y_pred_lin)),\n",
    "}"
   ]
  },
  {
   "cell_type": "code",
   "execution_count": 4,
   "id": "ef5b5a98-b33b-4f41-b1d9-9e9a391c288e",
   "metadata": {},
   "outputs": [
    {
     "name": "stdout",
     "output_type": "stream",
     "text": [
      "SVR (Poly Degree 2): RMSE = 61.9046\n",
      "SVR (Poly Degree 3): RMSE = 34.0432\n",
      "SVR (Poly Degree 4): RMSE = 57.3217\n",
      "Linear Regression: RMSE = 0.1444\n"
     ]
    }
   ],
   "source": [
    "\n",
    "# Print results\n",
    "for model, metrics in results.items():\n",
    "    print(f\"{model}: RMSE = {metrics['RMSE']:.4f}\")"
   ]
  },
  {
   "cell_type": "code",
   "execution_count": 5,
   "id": "9e62bfe8-6c80-47a9-b98f-6fd797bbd667",
   "metadata": {},
   "outputs": [],
   "source": [
    "from sklearn.tree import DecisionTreeRegressor\n",
    "\n",
    "depths = [2, 4, 6, 8, 10]\n",
    "results = {}"
   ]
  },
  {
   "cell_type": "code",
   "execution_count": 6,
   "id": "ecdbf832-b0d6-4111-abe0-77c4285c45f0",
   "metadata": {},
   "outputs": [],
   "source": [
    "for depth in depths:\n",
    "    tree_pipeline = make_pipeline(StandardScaler(), DecisionTreeRegressor(max_depth=depth, random_state=42))\n",
    "    tree_pipeline.fit(X_train, y_train)\n",
    "    y_pred = tree_pipeline.predict(X_test)\n",
    "    \n",
    "    results[f\"Decision Tree (Depth {depth})\"] = {\n",
    "        \"RMSE\": np.sqrt(mean_squared_error(y_test, y_pred)),\n",
    "    }"
   ]
  },
  {
   "cell_type": "code",
   "execution_count": 7,
   "id": "4228fd28-6ca5-4a23-9bf1-6ef9e2de6b07",
   "metadata": {},
   "outputs": [],
   "source": [
    "# Compare to baseline results\n",
    "results[\"Linear Regression\"] = {\n",
    "    \"RMSE\": np.sqrt(mean_squared_error(y_test, y_pred_lin)),\n",
    "}"
   ]
  },
  {
   "cell_type": "code",
   "execution_count": 8,
   "id": "3300bb23-2d1f-47f2-af6a-b1d6d5e7d078",
   "metadata": {},
   "outputs": [
    {
     "name": "stdout",
     "output_type": "stream",
     "text": [
      "Decision Tree (Depth 2): RMSE = 20.7446\n",
      "Decision Tree (Depth 4): RMSE = 6.3575\n",
      "Decision Tree (Depth 6): RMSE = 2.0005\n",
      "Decision Tree (Depth 8): RMSE = 1.1962\n",
      "Decision Tree (Depth 10): RMSE = 1.1625\n",
      "Linear Regression: RMSE = 0.1444\n"
     ]
    }
   ],
   "source": [
    "for model, metrics in results.items():\n",
    "    print(f\"{model}: RMSE = {metrics['RMSE']:.4f}\")"
   ]
  },
  {
   "cell_type": "code",
   "execution_count": null,
   "id": "f5854fad-9633-430c-b6df-26e57f7dde0a",
   "metadata": {},
   "outputs": [],
   "source": []
  },
  {
   "cell_type": "code",
   "execution_count": null,
   "id": "cd451482-f9c1-4a20-b20c-ca153c5af65c",
   "metadata": {},
   "outputs": [],
   "source": []
  },
  {
   "cell_type": "code",
   "execution_count": null,
   "id": "10978846-7eec-4c7c-abe1-58d5f468d7c1",
   "metadata": {},
   "outputs": [],
   "source": []
  }
 ],
 "metadata": {
  "kernelspec": {
   "display_name": "Python [conda env:base] *",
   "language": "python",
   "name": "conda-base-py"
  },
  "language_info": {
   "codemirror_mode": {
    "name": "ipython",
    "version": 3
   },
   "file_extension": ".py",
   "mimetype": "text/x-python",
   "name": "python",
   "nbconvert_exporter": "python",
   "pygments_lexer": "ipython3",
   "version": "3.12.7"
  }
 },
 "nbformat": 4,
 "nbformat_minor": 5
}
