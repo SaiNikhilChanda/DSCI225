{
 "cells": [
  {
   "cell_type": "markdown",
   "metadata": {},
   "source": [
    "## Progress Notes\n",
    "\n",
    "### Experiments\n",
    "\n",
    "1. **Same image for style & content**: We wondered what happens if both images are the same\n",
    "\n",
    "2. **Reverse style & content**: What would happen if we changed the order of the style transfer\n",
    "\n",
    "3. **Increased learning rate**: What would happen if we increase the learning rate -- we can expect more accuracy but more noise as well\n",
    "\n",
    "4. **Fewer style layers**: What happens with less style laters -- we can expect less detail"
   ]
  },
  {
   "cell_type": "markdown",
   "id": "59f62912",
   "metadata": {},
   "source": []
  }
 ],
 "metadata": {
  "kernelspec": {
   "display_name": "base",
   "language": "python",
   "name": "python3"
  },
  "language_info": {
   "codemirror_mode": {
    "name": "ipython",
    "version": 3
   },
   "file_extension": ".py",
   "mimetype": "text/x-python",
   "name": "python",
   "nbconvert_exporter": "python",
   "pygments_lexer": "ipython3",
   "version": "3.12.7"
  }
 },
 "nbformat": 4,
 "nbformat_minor": 5
}
